{
 "cells": [
  {
   "cell_type": "code",
   "execution_count": 1,
   "metadata": {},
   "outputs": [],
   "source": [
    "import pandas as pd\n",
    "from sklearn.preprocessing import LabelEncoder\n",
    "from sklearn.model_selection import train_test_split\n",
    "from sklearn.tree import DecisionTreeRegressor\n",
    "import joblib"
   ]
  },
  {
   "cell_type": "code",
   "execution_count": 2,
   "metadata": {},
   "outputs": [],
   "source": [
    "# data = pd.read_csv(\"crop_production.csv\")\n",
    "\n",
    "def pre_process(df):\n",
    "#     data = data.drop([\"District_Name\",\"Crop_Year\"], axis=1)\n",
    "    \n",
    "    def label_encoding(dataset,data_colounm):\n",
    "        label = LabelEncoder()\n",
    "        dataset[data_colounm] = label.fit_transform(dataset[data_colounm])\n",
    "    \n",
    "    label_encoding(df,\"State_Name\")\n",
    "    label_encoding(df,\"Season\")\n",
    "    label_encoding(df,\"Crop\")\n",
    "    \n",
    "    return df\n",
    "\n"
   ]
  },
  {
   "cell_type": "code",
   "execution_count": null,
   "metadata": {},
   "outputs": [],
   "source": []
  },
  {
   "cell_type": "code",
   "execution_count": 3,
   "metadata": {},
   "outputs": [],
   "source": [
    "def prediction(df):\n",
    "    data = pre_process(df)\n",
    "    model = joblib.load(\"crop_model.pkl\")\n",
    "    result = model.predict(data)\n",
    "    return result\n",
    "    "
   ]
  },
  {
   "cell_type": "code",
   "execution_count": null,
   "metadata": {},
   "outputs": [],
   "source": []
  },
  {
   "cell_type": "code",
   "execution_count": 4,
   "metadata": {},
   "outputs": [
    {
     "name": "stdout",
     "output_type": "stream",
     "text": [
      "153.0 Quintel/Hectare\n"
     ]
    }
   ],
   "source": [
    "user_input = {\n",
    "    \"State_Name\":\"Uttar Pradesh\",\n",
    "    \"Season\":\"Kharif\",\n",
    "    \"Crop\":\"Maize\",\n",
    "    \"Area\":229,\n",
    "    \n",
    "}\n",
    "user_input = pd.DataFrame(user_input, index=[0])\n",
    "\n",
    "# print(user_input)\n",
    "x = prediction(user_input)\n",
    "print(x[0],\"Quintel/Hectare\")"
   ]
  },
  {
   "cell_type": "code",
   "execution_count": null,
   "metadata": {},
   "outputs": [],
   "source": []
  }
 ],
 "metadata": {
  "kernelspec": {
   "display_name": "Python 3",
   "language": "python",
   "name": "python3"
  },
  "language_info": {
   "codemirror_mode": {
    "name": "ipython",
    "version": 3
   },
   "file_extension": ".py",
   "mimetype": "text/x-python",
   "name": "python",
   "nbconvert_exporter": "python",
   "pygments_lexer": "ipython3",
   "version": "3.8.0"
  }
 },
 "nbformat": 4,
 "nbformat_minor": 2
}
